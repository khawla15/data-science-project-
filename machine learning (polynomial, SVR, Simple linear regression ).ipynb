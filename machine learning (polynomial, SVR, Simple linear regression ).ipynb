{
  "nbformat": 4,
  "nbformat_minor": 0,
  "metadata": {
    "colab": {
      "name": "Lab3.ipynb",
      "provenance": [],
      "collapsed_sections": [],
      "include_colab_link": true
    },
    "kernelspec": {
      "name": "python3",
      "display_name": "Python 3"
    },
    "language_info": {
      "name": "python"
    }
  },
  "cells": [
    {
      "cell_type": "markdown",
      "metadata": {
        "id": "view-in-github",
        "colab_type": "text"
      },
      "source": [
        "<a href=\"https://colab.research.google.com/github/khawla15/data-science-project-/blob/main/machine%20learning%20(polynomial%2C%20SVR%2C%20Simple%20linear%20regression%20).ipynb\" target=\"_parent\"><img src=\"https://colab.research.google.com/assets/colab-badge.svg\" alt=\"Open In Colab\"/></a>"
      ]
    },
    {
      "cell_type": "markdown",
      "source": [
        "**Scenario**\n",
        "\n",
        "---\n",
        "\n",
        "You are working in a specific company as a data analyst. This company has an\n",
        "available position for country manager and new person applied for this position.\n",
        "He/She has been working for 3 years as a country manager in another company and\n",
        "his/her salary is 133,000$. HR sent you the positions’ salary dataset and ask you if\n",
        "he/she deserve the 133,000$? Consider his\\her level on 5.5."
      ],
      "metadata": {
        "id": "e0AvtbJ9b0i0"
      }
    },
    {
      "cell_type": "code",
      "source": [
        "from sklearn.linear_model import LinearRegression\n",
        "from sklearn.preprocessing import PolynomialFeatures\n",
        "from sklearn.preprocessing import StandardScaler\n",
        "from sklearn.svm import SVR"
      ],
      "metadata": {
        "id": "QvRkt9q8xGlw"
      },
      "execution_count": 1,
      "outputs": []
    },
    {
      "cell_type": "code",
      "execution_count": 2,
      "metadata": {
        "id": "WAMHkqpKwcLC"
      },
      "outputs": [],
      "source": [
        "\n",
        "#importing libraries \n",
        "import numpy as np\n",
        "import pandas as pd \n",
        "import matplotlib.pyplot as plt"
      ]
    },
    {
      "cell_type": "code",
      "source": [
        "#importing dataset \n",
        "df =pd.read_csv('/content/Position_Salaries(1).csv')\n",
        "X = df.iloc[:,1:-1].values.astype(float)\n",
        "y = df.iloc[:,-1].values.astype(float)"
      ],
      "metadata": {
        "id": "QbIRhb4iyyEC"
      },
      "execution_count": 4,
      "outputs": []
    },
    {
      "cell_type": "code",
      "source": [
        "#--simple linear regression--\n",
        "LinearReg = LinearRegression()\n",
        "LinearReg.fit(X,y)\n",
        "Y_predict = LinearReg.predict(X)"
      ],
      "metadata": {
        "id": "4QgAzSS_03g8"
      },
      "execution_count": 5,
      "outputs": []
    },
    {
      "cell_type": "code",
      "source": [
        "Y_predict"
      ],
      "metadata": {
        "id": "VQnxwvy-1cpZ",
        "outputId": "bdd68ec3-05d9-415b-9389-b59453f56b1d",
        "colab": {
          "base_uri": "https://localhost:8080/"
        }
      },
      "execution_count": 6,
      "outputs": [
        {
          "output_type": "execute_result",
          "data": {
            "text/plain": [
              "array([-114454.54545455,  -33575.75757576,   47303.03030303,\n",
              "        128181.81818182,  209060.60606061,  289939.39393939,\n",
              "        370818.18181818,  451696.96969697,  532575.75757576,\n",
              "        613454.54545455])"
            ]
          },
          "metadata": {},
          "execution_count": 6
        }
      ]
    },
    {
      "cell_type": "code",
      "source": [
        "\n",
        "#---polynomial linear regression model---\n",
        "Poly = PolynomialFeatures(degree = 4)\n",
        "X_poly = Poly.fit_transform(X)\n",
        "Linear2 = LinearRegression()\n",
        "Linear2.fit(X_poly,  y)\n",
        "#predict new salary with polynomial regression \n",
        "poly_pred = Linear2.predict(Poly.fit_transform([[6.5]]))"
      ],
      "metadata": {
        "id": "FUp42lNI4Tk_"
      },
      "execution_count": 7,
      "outputs": []
    },
    {
      "cell_type": "code",
      "source": [
        "\n",
        "#show result of predicting\n",
        "poly_pred"
      ],
      "metadata": {
        "id": "Zrpa8NKCchSJ",
        "outputId": "a145bce4-75ef-4058-da24-e598566056ac",
        "colab": {
          "base_uri": "https://localhost:8080/"
        }
      },
      "execution_count": 8,
      "outputs": [
        {
          "output_type": "execute_result",
          "data": {
            "text/plain": [
              "array([158862.45265155])"
            ]
          },
          "metadata": {},
          "execution_count": 8
        }
      ]
    },
    {
      "cell_type": "code",
      "source": [
        "#----Training SVR model----\n",
        "#feature scaling :\n",
        "ss_x = StandardScaler()\n",
        "ss_y = StandardScaler()\n",
        "\n",
        "X_svr=ss_x.fit_transform(X.reshape(-1,1))\n",
        "Y_svr=ss_y.fit_transform(y.reshape(-1,1))\n",
        "\n",
        "regressor=SVR(kernel='rbf')\n",
        "regressor.fit(X_svr.reshape(-1,1),Y_svr.reshape(-1,1))\n",
        "\n",
        "#predict new salary with SVR\n",
        "svr_pred = regressor.predict(ss_x.transform([[5.5]]))\n",
        "svr_pred = ss_y.inverse_transform(svr_pred.reshape(-1,1))"
      ],
      "metadata": {
        "id": "OPwzP7SPTt0K",
        "outputId": "3ae663b6-9a19-4a7f-ced1-a7eb13c5dea6",
        "colab": {
          "base_uri": "https://localhost:8080/"
        }
      },
      "execution_count": 13,
      "outputs": [
        {
          "output_type": "stream",
          "name": "stderr",
          "text": [
            "/usr/local/lib/python3.7/dist-packages/sklearn/utils/validation.py:993: DataConversionWarning: A column-vector y was passed when a 1d array was expected. Please change the shape of y to (n_samples, ), for example using ravel().\n",
            "  y = column_or_1d(y, warn=True)\n"
          ]
        }
      ]
    },
    {
      "cell_type": "code",
      "source": [
        "\n",
        "#predicting value of SVR\n",
        "svr_pred"
      ],
      "metadata": {
        "id": "EKwGgt-4iJVh",
        "outputId": "69ac9645-2772-4ca3-bf4d-524ce151c34b",
        "colab": {
          "base_uri": "https://localhost:8080/"
        }
      },
      "execution_count": 14,
      "outputs": [
        {
          "output_type": "execute_result",
          "data": {
            "text/plain": [
              "array([[131106.77303274]])"
            ]
          },
          "metadata": {},
          "execution_count": 14
        }
      ]
    },
    {
      "cell_type": "markdown",
      "source": [
        "Now I will show u the plots of all 3 models :"
      ],
      "metadata": {
        "id": "g2nXDpklkwBU"
      }
    },
    {
      "cell_type": "code",
      "source": [
        "\n",
        "#---visualize linear reg---\n",
        "plt.scatter(X,y,color = 'green' ) \n",
        "plt.plot(X, Y_predict , color='red')\n",
        "plt.title('Truth or bluff(Linear Regression Model)')\n",
        "plt.xlabel('Position Level')\n",
        "plt.ylabel('Salary')\n",
        "plt.show()"
      ],
      "metadata": {
        "id": "UEa2bpMNi4g5",
        "outputId": "bbfee41c-eb58-44ba-b32e-326ecf631882",
        "colab": {
          "base_uri": "https://localhost:8080/",
          "height": 295
        }
      },
      "execution_count": 16,
      "outputs": [
        {
          "output_type": "display_data",
          "data": {
            "text/plain": [
              "<Figure size 432x288 with 1 Axes>"
            ],
            "image/png": "[encoded data removed]"
          },
          "metadata": {
            "needs_background": "light"
          }
        }
      ]
    },
    {
      "cell_type": "code",
      "source": [
        "#--visualize Polynomial--\n",
        "X_grid = np.arange(min(X), max(X) , 0.1)\n",
        "X_grid = X_grid.reshape((len(X_grid),1))\n",
        "\n",
        "plt.scatter(X,y,color = 'red')\n",
        "plt.plot(X_grid, Linear2.predict(\n",
        "Poly.fit_transform(X_grid)), color='green')\n",
        "\n",
        "plt.title('Truth or bluff(Polynomial Regression Model)')\n",
        "plt.xlabel('Position Level')\n",
        "plt.ylabel('Salary')\n",
        "plt.show()"
      ],
      "metadata": {
        "id": "f_br-LXRlPTz",
        "outputId": "00e0a8cd-f28c-4026-e2b7-94120d7f46e3",
        "colab": {
          "base_uri": "https://localhost:8080/",
          "height": 295
        }
      },
      "execution_count": 17,
      "outputs": [
        {
          "output_type": "display_data",
          "data": {
            "text/plain": [
              "<Figure size 432x288 with 1 Axes>"
            ],
            "image/png": "[encoded data removed]"
          },
          "metadata": {
            "needs_background": "light"
          }
        }
      ]
    },
    {
      "cell_type": "code",
      "source": [
        "#-- visualize SVR --\n",
        "plt.scatter(X_svr,Y_svr,color = 'green' ) \n",
        "plt.plot(X_svr, regressor.predict(X_svr) , color='red')\n",
        "plt.title('Truth or bluff(SVR Model)')\n",
        "plt.xlabel('Position Level')\n",
        "plt.ylabel('Salary')\n",
        "plt.show()"
      ],
      "metadata": {
        "id": "jStIv5Z-o8K_",
        "outputId": "64d5d660-da2c-417c-ad0c-5d981abe2922",
        "colab": {
          "base_uri": "https://localhost:8080/",
          "height": 295
        }
      },
      "execution_count": 18,
      "outputs": [
        {
          "output_type": "display_data",
          "data": {
            "text/plain": [
              "<Figure size 432x288 with 1 Axes>"
            ],
            "image/png": "[encoded data removed]"
          },
          "metadata": {
            "needs_background": "light"
          }
        }
      ]
    },
    {
      "cell_type": "markdown",
      "source": [
        "# **Based on the scenario, My opinion about every model’s result:**\n",
        "\n",
        "** In simple linear regression model :**\n",
        "\n",
        "the relationship is positive and the line is leaner but the data is curved\n",
        "\n",
        "**In Polynomial linear regression:**\n",
        "it’s better than Simple linear regression, It's more fit and provide best relationship\n",
        "between dependent and independent variable.\n",
        "\n",
        "**in Support vector regression :**\n",
        "the line is fit the data but ihave outliers"
      ],
      "metadata": {
        "id": "V21V7-Q_lWhO"
      }
    },
    {
      "cell_type": "code",
      "source": [
        "from google.colab import drive\n",
        "drive.mount('/content/drive')"
      ],
      "metadata": {
        "id": "hi3fLtCRzwCI"
      },
      "execution_count": null,
      "outputs": []
    }
  ]
}